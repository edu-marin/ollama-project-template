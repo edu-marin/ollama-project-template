{
 "cells": [
  {
   "cell_type": "code",
   "execution_count": 4,
   "metadata": {},
   "outputs": [],
   "source": [
    "import ollama"
   ]
  },
  {
   "cell_type": "code",
   "execution_count": 5,
   "metadata": {},
   "outputs": [
    {
     "data": {
      "text/plain": [
       "{'models': [{'name': 'llama3.1:latest',\n",
       "   'model': 'llama3.1:latest',\n",
       "   'modified_at': '2024-08-11T14:57:18.09399838Z',\n",
       "   'size': 4661230977,\n",
       "   'digest': '91ab477bec9d27086a119e33c471ae7afbd786cc4fbd8f38d8af0a0b949d53aa',\n",
       "   'details': {'parent_model': '',\n",
       "    'format': 'gguf',\n",
       "    'family': 'llama',\n",
       "    'families': ['llama'],\n",
       "    'parameter_size': '8.0B',\n",
       "    'quantization_level': 'Q4_0'}}]}"
      ]
     },
     "execution_count": 5,
     "metadata": {},
     "output_type": "execute_result"
    }
   ],
   "source": [
    "# pulled models\n",
    "ollama.list()"
   ]
  },
  {
   "cell_type": "code",
   "execution_count": 2,
   "metadata": {},
   "outputs": [
    {
     "data": {
      "text/plain": [
       "{'model': 'llama3.1',\n",
       " 'created_at': '2024-08-11T15:22:36.42106521Z',\n",
       " 'response': 'Light scatters shorter (blue) wavelengths, making the sky appear blue.',\n",
       " 'done': True,\n",
       " 'done_reason': 'stop',\n",
       " 'context': [128009,\n",
       "  128006,\n",
       "  882,\n",
       "  128007,\n",
       "  271,\n",
       "  10445,\n",
       "  374,\n",
       "  279,\n",
       "  13180,\n",
       "  6437,\n",
       "  30,\n",
       "  304,\n",
       "  220,\n",
       "  605,\n",
       "  4339,\n",
       "  128009,\n",
       "  128006,\n",
       "  78191,\n",
       "  128007,\n",
       "  271,\n",
       "  14235,\n",
       "  1156,\n",
       "  10385,\n",
       "  24210,\n",
       "  320,\n",
       "  12481,\n",
       "  8,\n",
       "  93959,\n",
       "  11,\n",
       "  3339,\n",
       "  279,\n",
       "  13180,\n",
       "  5101,\n",
       "  6437,\n",
       "  13],\n",
       " 'total_duration': 5322511119,\n",
       " 'load_duration': 20403888,\n",
       " 'prompt_eval_count': 21,\n",
       " 'prompt_eval_duration': 1426079000,\n",
       " 'eval_count': 16,\n",
       " 'eval_duration': 3742824000}"
      ]
     },
     "execution_count": 2,
     "metadata": {},
     "output_type": "execute_result"
    }
   ],
   "source": [
    "# Ask one question only\n",
    "ollama.generate(model='llama3.1', prompt='Why is the sky blue? in 10 words')\n"
   ]
  },
  {
   "cell_type": "code",
   "execution_count": 6,
   "metadata": {},
   "outputs": [
    {
     "name": "stdout",
     "output_type": "stream",
     "text": [
      "Camila es un nombre de origen celta, que proviene del galés \"Cami\" o \"Camyll\", y que significa \"igualdad\". También se cree que deriva del latín \"Camilia\", que significa \"joven honorable\".\n",
      "\n",
      "En la mitología celta, Cami era el dios de los campos y la agricultura, y su nombre se asociaba con la fertilidad y la igualdad. Con el tiempo, el nombre fue adoptado por las mujeres y se convirtió en un nombre muy popular en muchos países de habla hispana, incluyendo España, México y Sudamérica.\n",
      "\n",
      "En algunos casos, también se menciona que Camila es una variante del nombre \"Camilla\", que tiene origen latino y significa \"joven honorable\" o \"igualdad\". Sin embargo, la forma más común y extendida de este nombre en la cultura popular es sin duda la variante femenina \"Camila\", que se ha convertido en un nombre muy querido y emblemático en muchos países.\n"
     ]
    }
   ],
   "source": [
    "response = ollama.chat(model='llama3.1', messages=[\n",
    "  {\n",
    "    'role': 'user',\n",
    "    'content': 'De donde viene el nombre Camila?',\n",
    "  },\n",
    "])\n",
    "print(response['message']['content'])"
   ]
  },
  {
   "cell_type": "code",
   "execution_count": null,
   "metadata": {},
   "outputs": [],
   "source": []
  }
 ],
 "metadata": {
  "kernelspec": {
   "display_name": "Python 3",
   "language": "python",
   "name": "python3"
  },
  "language_info": {
   "codemirror_mode": {
    "name": "ipython",
    "version": 3
   },
   "file_extension": ".py",
   "mimetype": "text/x-python",
   "name": "python",
   "nbconvert_exporter": "python",
   "pygments_lexer": "ipython3",
   "version": "3.12.1"
  }
 },
 "nbformat": 4,
 "nbformat_minor": 2
}
