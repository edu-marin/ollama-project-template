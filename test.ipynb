{
 "cells": [
  {
   "cell_type": "code",
   "execution_count": 7,
   "metadata": {},
   "outputs": [
    {
     "name": "stdout",
     "output_type": "stream",
     "text": [
      "I'm an artificial intelligence model known as Llama. Llama stands for \"Large Language Model Meta AI.\"\n"
     ]
    }
   ],
   "source": [
    "from ollama import Client\n",
    "client = Client(host='http://localhost:11434')\n",
    "\n",
    "response = client.chat(model='llama3.1', messages=[\n",
    "  {\n",
    "    'role': 'user',\n",
    "    'content': 'Introduce yourself',\n",
    "  },\n",
    "])\n",
    "\n",
    "print(response['message']['content'])"
   ]
  },
  {
   "cell_type": "code",
   "execution_count": 3,
   "metadata": {},
   "outputs": [
    {
     "data": {
      "text/plain": [
       "{'model': 'llama3.1',\n",
       " 'created_at': '2024-08-11T13:33:58.78130703Z',\n",
       " 'message': {'role': 'assistant',\n",
       "  'content': \"The sky appears blue to us during the day because of a phenomenon called scattering. Here's why:\\n\\n1. **Sunlight enters Earth's atmosphere**: When sunlight enters our atmosphere, it encounters tiny molecules of gases such as nitrogen (N2) and oxygen (O2). These molecules are much smaller than the wavelength of light.\\n\\n2. **Scattering occurs**: As sunlight hits these gas molecules, it scatters in all directions. This scattering is known as Rayleigh scattering, named after the British physicist Lord Rayleigh who first described it.\\n\\n3. **Blue light scatters more**: The shorter wavelengths (like blue and violet) are scattered more than the longer wavelengths (like red). This means that when sunlight hits the Earth's atmosphere, much of the blue light is directed in all directions, reaching our eyes from every direction around us.\\n\\n4. **Red light continues straight ahead**: On the other hand, the longer wavelengths like red light continue to travel in a straight line after entering the atmosphere. As such, it reaches our eyes primarily from the direction of the sun, giving the sky its reddish hue during sunrise and sunset when sunlight has to pass through more of the Earth's atmosphere.\\n\\nIn simple terms, the scattering of sunlight by tiny molecules in the atmosphere is why the sky appears blue. The amount of scattering that occurs depends on the wavelength of light; shorter wavelengths like blue get scattered a lot, while longer wavelengths like red continue straight ahead with less scattering.\"},\n",
       " 'done_reason': 'stop',\n",
       " 'done': True,\n",
       " 'total_duration': 80666862692,\n",
       " 'load_duration': 4053623566,\n",
       " 'prompt_eval_count': 17,\n",
       " 'prompt_eval_duration': 2678573000,\n",
       " 'eval_count': 296,\n",
       " 'eval_duration': 73890803000}"
      ]
     },
     "execution_count": 3,
     "metadata": {},
     "output_type": "execute_result"
    }
   ],
   "source": [
    "response"
   ]
  },
  {
   "cell_type": "code",
   "execution_count": 6,
   "metadata": {},
   "outputs": [
    {
     "name": "stdout",
     "output_type": "stream",
     "text": [
      "The sky appears blue to us during the day because of a phenomenon called scattering. Here's why:\n",
      "\n",
      "1. **Sunlight enters Earth's atmosphere**: When sunlight enters our atmosphere, it encounters tiny molecules of gases such as nitrogen (N2) and oxygen (O2). These molecules are much smaller than the wavelength of light.\n",
      "\n",
      "2. **Scattering occurs**: As sunlight hits these gas molecules, it scatters in all directions. This scattering is known as Rayleigh scattering, named after the British physicist Lord Rayleigh who first described it.\n",
      "\n",
      "3. **Blue light scatters more**: The shorter wavelengths (like blue and violet) are scattered more than the longer wavelengths (like red). This means that when sunlight hits the Earth's atmosphere, much of the blue light is directed in all directions, reaching our eyes from every direction around us.\n",
      "\n",
      "4. **Red light continues straight ahead**: On the other hand, the longer wavelengths like red light continue to travel in a straight line after entering the atmosphere. As such, it reaches our eyes primarily from the direction of the sun, giving the sky its reddish hue during sunrise and sunset when sunlight has to pass through more of the Earth's atmosphere.\n",
      "\n",
      "In simple terms, the scattering of sunlight by tiny molecules in the atmosphere is why the sky appears blue. The amount of scattering that occurs depends on the wavelength of light; shorter wavelengths like blue get scattered a lot, while longer wavelengths like red continue straight ahead with less scattering.\n"
     ]
    }
   ],
   "source": []
  },
  {
   "cell_type": "code",
   "execution_count": null,
   "metadata": {},
   "outputs": [],
   "source": []
  }
 ],
 "metadata": {
  "kernelspec": {
   "display_name": "Python 3",
   "language": "python",
   "name": "python3"
  },
  "language_info": {
   "codemirror_mode": {
    "name": "ipython",
    "version": 3
   },
   "file_extension": ".py",
   "mimetype": "text/x-python",
   "name": "python",
   "nbconvert_exporter": "python",
   "pygments_lexer": "ipython3",
   "version": "3.12.1"
  }
 },
 "nbformat": 4,
 "nbformat_minor": 2
}
